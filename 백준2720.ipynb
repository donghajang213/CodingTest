{
 "cells": [
  {
   "cell_type": "code",
   "execution_count": 47,
   "id": "ca7a868c-6dd1-4f5d-8bea-29e8b108c31e",
   "metadata": {},
   "outputs": [
    {
     "name": "stdin",
     "output_type": "stream",
     "text": [
      " 3\n",
      " 124\n"
     ]
    },
    {
     "name": "stdout",
     "output_type": "stream",
     "text": [
      "4 2 0 4\n"
     ]
    },
    {
     "name": "stdin",
     "output_type": "stream",
     "text": [
      " 25\n"
     ]
    },
    {
     "name": "stdout",
     "output_type": "stream",
     "text": [
      "1 0 0 0\n"
     ]
    },
    {
     "name": "stdin",
     "output_type": "stream",
     "text": [
      " 194\n"
     ]
    },
    {
     "name": "stdout",
     "output_type": "stream",
     "text": [
      "7 1 1 4\n"
     ]
    }
   ],
   "source": [
    "# Q.2720\n",
    "change = [25, 10, 5, 1]\n",
    "cnt = [0, 0, 0, 0]\n",
    "\n",
    "\n",
    "t = int(input())\n",
    "for i in range(t):\n",
    "    receive = int(input())\n",
    "    for j in range(len(change)):\n",
    "        while receive >= change[j]:\n",
    "            receive -= change[j]\n",
    "            cnt[j] += 1\n",
    "    print(*cnt)\n",
    "    cnt = [0, 0, 0, 0]"
   ]
  },
  {
   "cell_type": "code",
   "execution_count": null,
   "id": "c2ef2812-56a6-442c-8fed-d4fa30552c84",
   "metadata": {},
   "outputs": [],
   "source": []
  }
 ],
 "metadata": {
  "kernelspec": {
   "display_name": "Python 3 (ipykernel)",
   "language": "python",
   "name": "python3"
  },
  "language_info": {
   "codemirror_mode": {
    "name": "ipython",
    "version": 3
   },
   "file_extension": ".py",
   "mimetype": "text/x-python",
   "name": "python",
   "nbconvert_exporter": "python",
   "pygments_lexer": "ipython3",
   "version": "3.12.4"
  }
 },
 "nbformat": 4,
 "nbformat_minor": 5
}

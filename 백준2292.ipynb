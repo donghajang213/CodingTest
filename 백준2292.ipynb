{
 "cells": [
  {
   "cell_type": "code",
   "execution_count": 11,
   "id": "813d16c8-5b5a-4740-960f-530d81d309d7",
   "metadata": {},
   "outputs": [
    {
     "name": "stdin",
     "output_type": "stream",
     "text": [
      " 58\n"
     ]
    },
    {
     "name": "stdout",
     "output_type": "stream",
     "text": [
      "5\n"
     ]
    }
   ],
   "source": [
    "# Q. 2292\n",
    "# 1\n",
    "# 1 + 6*1 -> 7\n",
    "# 1 + 6 * 2 -> 13\n",
    "# 1 + 6 * 3 -> 19\n",
    "# ...\n",
    "\n",
    "n = int(input())\n",
    "\n",
    "beebox = 1\n",
    "cnt = 1\n",
    "\n",
    "while beebox < n:\n",
    "    beebox += 6 * cnt\n",
    "    cnt += 1\n",
    "    \n",
    "print(cnt)\n",
    "    "
   ]
  },
  {
   "cell_type": "code",
   "execution_count": null,
   "id": "672b6ed8-037f-4223-b1d6-f2a4205bddd7",
   "metadata": {},
   "outputs": [],
   "source": [
    "# 풀이\n",
    "''' beebox의 값의 초기값은 1이다.\n",
    "    시계방향으로 한 바퀴를 돌고 난 후 시작 값은 7, 13 ... 으로 증가한다.\n",
    "    이를 분석한 결과 1, 1+(6*1), 1+(6*2)의 수식이 나온다.\n",
    "    n의 입력값보다 beebox의 값이 n값보다 커질 때 cnt 즉, 돌아간 횟수를 구하기 위하여\n",
    "    while문을 사용했다 '''"
   ]
  }
 ],
 "metadata": {
  "kernelspec": {
   "display_name": "Python 3 (ipykernel)",
   "language": "python",
   "name": "python3"
  },
  "language_info": {
   "codemirror_mode": {
    "name": "ipython",
    "version": 3
   },
   "file_extension": ".py",
   "mimetype": "text/x-python",
   "name": "python",
   "nbconvert_exporter": "python",
   "pygments_lexer": "ipython3",
   "version": "3.12.4"
  }
 },
 "nbformat": 4,
 "nbformat_minor": 5
}

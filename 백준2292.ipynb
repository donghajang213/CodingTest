{
 "cells": [
  {
   "cell_type": "code",
   "execution_count": 11,
   "id": "813d16c8-5b5a-4740-960f-530d81d309d7",
   "metadata": {},
   "outputs": [
    {
     "name": "stdin",
     "output_type": "stream",
     "text": [
      " 58\n"
     ]
    },
    {
     "name": "stdout",
     "output_type": "stream",
     "text": [
      "5\n"
     ]
    }
   ],
   "source": [
    "# Q. 2292\n",
    "# 1\n",
    "# 1 + 6*1 -> 7\n",
    "# 1 + 6 * 2 -> 13\n",
    "# 1 + 6 * 3 -> 19\n",
    "# ...\n",
    "\n",
    "n = int(input())\n",
    "\n",
    "beebox = 1\n",
    "cnt = 1\n",
    "\n",
    "while beebox < n:\n",
    "    beebox += 6 * cnt\n",
    "    cnt += 1\n",
    "    \n",
    "print(cnt)\n",
    "    "
   ]
  }
 ],
 "metadata": {
  "kernelspec": {
   "display_name": "Python 3 (ipykernel)",
   "language": "python",
   "name": "python3"
  },
  "language_info": {
   "codemirror_mode": {
    "name": "ipython",
    "version": 3
   },
   "file_extension": ".py",
   "mimetype": "text/x-python",
   "name": "python",
   "nbconvert_exporter": "python",
   "pygments_lexer": "ipython3",
   "version": "3.12.4"
  }
 },
 "nbformat": 4,
 "nbformat_minor": 5
}

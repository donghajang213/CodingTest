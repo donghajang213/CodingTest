{
 "cells": [
  {
   "cell_type": "code",
   "execution_count": 11,
   "id": "af50877a-6a54-4233-835c-c80fa7381368",
   "metadata": {},
   "outputs": [
    {
     "name": "stdin",
     "output_type": "stream",
     "text": [
      " 5\n"
     ]
    },
    {
     "name": "stdout",
     "output_type": "stream",
     "text": [
      "1089\n"
     ]
    }
   ],
   "source": [
    "# 2903\n",
    "# 중앙 이동 알고리즘\n",
    "\n",
    "# 2**2 3**2 5**2\n",
    "# 소수? -> 2, 3, 5, 7, 11 ... (2**n+1)**2\n",
    "print((2**int(input()) + 1) **2)"
   ]
  },
  {
   "cell_type": "code",
   "execution_count": null,
   "id": "25f3b082-e2be-4f89-bce1-90c5a3836db7",
   "metadata": {},
   "outputs": [],
   "source": []
  }
 ],
 "metadata": {
  "kernelspec": {
   "display_name": "Python 3 (ipykernel)",
   "language": "python",
   "name": "python3"
  },
  "language_info": {
   "codemirror_mode": {
    "name": "ipython",
    "version": 3
   },
   "file_extension": ".py",
   "mimetype": "text/x-python",
   "name": "python",
   "nbconvert_exporter": "python",
   "pygments_lexer": "ipython3",
   "version": "3.12.4"
  }
 },
 "nbformat": 4,
 "nbformat_minor": 5
}
